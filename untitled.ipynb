{
 "cells": [
  {
   "cell_type": "code",
   "execution_count": 10,
   "metadata": {},
   "outputs": [
    {
     "data": {
      "text/plain": [
       "1"
      ]
     },
     "execution_count": 10,
     "metadata": {},
     "output_type": "execute_result"
    }
   ],
   "source": [
    "import cv2\n",
    "cv2.cuda.getCudaEnabledDeviceCount()"
   ]
  },
  {
   "cell_type": "code",
   "execution_count": 9,
   "metadata": {},
   "outputs": [],
   "source": [
    "import cv2\n",
    "import numpy as np\n",
    "# 웹캠 설정\n",
    "cap1 = cv2.VideoCapture(0)\n",
    "\n",
    "# 비디오 녹화를 위한 VideoWriter 객체 설정\n",
    "fourcc = cv2.VideoWriter_fourcc(*'XVID')\n",
    "\n",
    "desired_width = 2560\n",
    "desired_height = 1440\n",
    "cap1.set(cv2.CAP_PROP_FRAME_WIDTH, desired_width)\n",
    "cap1.set(cv2.CAP_PROP_FRAME_HEIGHT, desired_height)\n",
    "\n",
    "# out1 = cv2.VideoWriter('output.avi', fourcc, 30.0, (2560, 1440))\n",
    "\n",
    "cap2 = cv2.VideoCapture(1)\n",
    "cap2.set(cv2.CAP_PROP_FRAME_WIDTH, desired_width)\n",
    "cap2.set(cv2.CAP_PROP_FRAME_HEIGHT, desired_height)\n",
    "\n",
    "out = cv2.VideoWriter('output.avi', fourcc, 30.0, (2560*2, 1440))\n",
    "\n",
    "window_name = 'Webcam Live'\n",
    "cv2.namedWindow(window_name, cv2.WINDOW_NORMAL)\n",
    "cv2.setWindowProperty(window_name, cv2.WND_PROP_AUTOSIZE, cv2.WINDOW_AUTOSIZE)\n",
    "\n",
    "\n",
    "while cap1.isOpened():\n",
    "    ret1, frame1 = cap1.read()\n",
    "    ret2, frame2 = cap2.read()\n",
    "    # print(ret)\n",
    "    if ret1:\n",
    "        # CUDA를 사용한 이미지 처리 예시\n",
    "        # 여기서 frame을 CUDA를 사용하여 처리할 수 있습니다.\n",
    "        # 예: gpu_frame = cv2.cuda_GpuMat()\n",
    "        #     gpu_frame.upload(frame)\n",
    "        \n",
    "        # 처리된 프레임을 비디오 파일에 쓰기\n",
    "        \n",
    "        # out.write(frame)\n",
    "\n",
    "        # 화면에 표시\n",
    "        combined_frame = np.hstack((frame1,frame2))\n",
    "        cv2.imshow('Webcam Live', combined_frame)\n",
    "\n",
    "        out.write(combined_frame)\n",
    "        # cv2.imshow('Frame', frame)\n",
    "\n",
    "        if cv2.waitKey(1) & 0xFF == ord('q'):\n",
    "            break\n",
    "    else:\n",
    "        break\n",
    "\n",
    "# 자원 해제\n",
    "cap1.release()\n",
    "cap2.release()\n",
    "out.release()\n",
    "cv2.destroyAllWindows()\n"
   ]
  },
  {
   "cell_type": "code",
   "execution_count": 8,
   "metadata": {},
   "outputs": [
    {
     "name": "stdout",
     "output_type": "stream",
     "text": [
      "[[[255 255 255]\n",
      "  [255 255 255]\n",
      "  [255 255 255]\n",
      "  ...\n",
      "  [105 105 105]\n",
      "  [103 103 103]\n",
      "  [101 101 101]]\n",
      "\n",
      " [[255 255 255]\n",
      "  [255 255 255]\n",
      "  [255 255 255]\n",
      "  ...\n",
      "  [104 104 104]\n",
      "  [103 103 103]\n",
      "  [103 103 103]]\n",
      "\n",
      " [[255 255 255]\n",
      "  [255 255 255]\n",
      "  [255 255 255]\n",
      "  ...\n",
      "  [103 103 103]\n",
      "  [104 104 104]\n",
      "  [105 105 105]]\n",
      "\n",
      " ...\n",
      "\n",
      " [[  4   0   0]\n",
      "  [  4   0   0]\n",
      "  [  4   0   0]\n",
      "  ...\n",
      "  [ 26  28  32]\n",
      "  [ 27  29  33]\n",
      "  [ 28  30  34]]\n",
      "\n",
      " [[  4   0   0]\n",
      "  [  4   0   0]\n",
      "  [  4   0   0]\n",
      "  ...\n",
      "  [ 25  27  31]\n",
      "  [ 27  29  33]\n",
      "  [ 28  30  34]]\n",
      "\n",
      " [[  4   0   0]\n",
      "  [  4   0   0]\n",
      "  [  4   0   0]\n",
      "  ...\n",
      "  [ 25  27  31]\n",
      "  [ 27  29  33]\n",
      "  [ 28  30  34]]]\n"
     ]
    }
   ],
   "source": [
    "print(frame2)"
   ]
  }
 ],
 "metadata": {
  "kernelspec": {
   "display_name": "opencvgpu",
   "language": "python",
   "name": "python3"
  },
  "language_info": {
   "codemirror_mode": {
    "name": "ipython",
    "version": 3
   },
   "file_extension": ".py",
   "mimetype": "text/x-python",
   "name": "python",
   "nbconvert_exporter": "python",
   "pygments_lexer": "ipython3",
   "version": "3.11.5"
  }
 },
 "nbformat": 4,
 "nbformat_minor": 2
}
