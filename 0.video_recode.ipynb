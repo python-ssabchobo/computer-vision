{
 "cells": [
  {
   "cell_type": "code",
   "execution_count": 2,
   "metadata": {},
   "outputs": [],
   "source": [
    "import cv2\n",
    "import datetime\n",
    "\n",
    "current_time = datetime.datetime.now()\n",
    "\n",
    "video_file_name = current_time.strftime(\"%Y-%m-%d_%H-%M-%S\")+'.avi'\n",
    "\n",
    "# 웹캠 설정\n",
    "cap = cv2.VideoCapture(0)\n",
    "\n",
    "# 웹캠의 해상도를 2560x1440으로 설정\n",
    "desired_width = 2560\n",
    "desired_height = 1440\n",
    "cap.set(cv2.CAP_PROP_FRAME_WIDTH, desired_width)\n",
    "cap.set(cv2.CAP_PROP_FRAME_HEIGHT, desired_height)\n",
    "\n",
    "\n",
    "#파워라인 주파수 설정 (플리커 현상 방지용) 1 = 50Hz , 2= 60Hz / 아닐수도 있음;\n",
    "\n",
    "cap.set(cv2.CAP_PROP_SETTINGS,2)\n",
    "\n",
    "\n",
    "# 영상 저장을 위한 VideoWriter 객체 생성\n",
    "fourcc = cv2.VideoWriter_fourcc(*'XVID')\n",
    "# 웹캠의 실제 FPS를 사용. 웹캠이 지원하지 않는 FPS일 경우 기본값을 사용\n",
    "fps = cap.get(cv2.CAP_PROP_FPS)\n",
    "out = cv2.VideoWriter(video_file_name, fourcc, fps, (frame_width, frame_height))\n",
    "\n",
    "window_name = 'Webcam Live'\n",
    "cv2.namedWindow(window_name, cv2.WINDOW_NORMAL)\n",
    "cv2.setWindowProperty(window_name, cv2.WND_PROP_AUTOSIZE, cv2.WINDOW_AUTOSIZE)\n",
    "\n",
    "\n",
    "\n",
    "while cap.isOpened():\n",
    "    ret, frame = cap.read()\n",
    "    if ret:\n",
    "        # 프레임이 성공적으로 읽혔다면, 화면에 표시\n",
    "        cv2.imshow('Webcam Live', frame)\n",
    "        \n",
    "        # 프레임을 영상 파일로 저장\n",
    "        out.write(frame)\n",
    "\n",
    "        # 'q'를 누르면 루프 탈출\n",
    "        if cv2.waitKey(1) & 0xFF == ord('q'):\n",
    "            break\n",
    "    else:\n",
    "        break\n",
    "\n",
    "# 작업 완료 후 해제\n",
    "cap.release()\n",
    "out.release()\n",
    "cv2.destroyAllWindows()\n"
   ]
  }
 ],
 "metadata": {
  "kernelspec": {
   "display_name": "stereo_vision",
   "language": "python",
   "name": "python3"
  },
  "language_info": {
   "codemirror_mode": {
    "name": "ipython",
    "version": 3
   },
   "file_extension": ".py",
   "mimetype": "text/x-python",
   "name": "python",
   "nbconvert_exporter": "python",
   "pygments_lexer": "ipython3",
   "version": "3.10.0"
  }
 },
 "nbformat": 4,
 "nbformat_minor": 2
}
